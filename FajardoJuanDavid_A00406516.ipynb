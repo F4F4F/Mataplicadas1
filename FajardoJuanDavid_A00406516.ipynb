{
  "nbformat": 4,
  "nbformat_minor": 0,
  "metadata": {
    "colab": {
      "provenance": [],
      "authorship_tag": "ABX9TyOidgesReC3ODGDcUk8OGjv",
      "include_colab_link": true
    },
    "kernelspec": {
      "name": "python3",
      "display_name": "Python 3"
    },
    "language_info": {
      "name": "python"
    }
  },
  "cells": [
    {
      "cell_type": "markdown",
      "metadata": {
        "id": "view-in-github",
        "colab_type": "text"
      },
      "source": [
        "<a href=\"https://colab.research.google.com/github/F4F4F/Mataplicadas1/blob/main/FajardoJuanDavid_A00406516.ipynb\" target=\"_parent\"><img src=\"https://colab.research.google.com/assets/colab-badge.svg\" alt=\"Open In Colab\"/></a>"
      ]
    },
    {
      "cell_type": "markdown",
      "source": [
        "#Autobiografia#\n",
        "##Juan David Fajardo#\n",
        "\n",
        "Me llamo Juan David Fajardo, naci el 3 de mayo de 2006 en Cali,Valle del Cauca, Desde mi infancia he destacado por ser una persona alegre y me encanta aprender algo nuevo cada dia,\n"
      ],
      "metadata": {
        "id": "UlA-P_-qoDeN"
      }
    },
    {
      "cell_type": "code",
      "source": [],
      "metadata": {
        "id": "quP3__50oFSs"
      },
      "execution_count": null,
      "outputs": []
    }
  ]
}